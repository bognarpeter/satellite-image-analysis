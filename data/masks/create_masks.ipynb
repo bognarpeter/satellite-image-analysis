{
 "cells": [
  {
   "cell_type": "code",
   "execution_count": null,
   "metadata": {},
   "outputs": [],
   "source": [
    "from PIL import Image\n",
    "import numpy as np\n",
    "import sys\n",
    "import os\n",
    "\n",
    "np.set_printoptions(threshold=sys.maxsize)\n",
    "\n",
    "#colors\n",
    "BLACK = (0, 0, 0)\n",
    "WHITE = (255, 255, 255)\n",
    "RED = (250, 0, 0)\n",
    "\n",
    "TILE_SIZE = 2000 # in pixels\n",
    "TILES_FOLDER = \"mask_tiles_2000\"\n",
    "\n",
    "image = Image.open('mask_original.tif').convert(\"RGB\")\n",
    "image_array = np.array(image)   # \"data\" is a height x width x 4 numpy array\n",
    "\n",
    "image_size = image_array.shape[0]\n",
    "red, green, blue = image_array.T # Temporarily unpack the bands for readability\n",
    "\n",
    "urban_areas = (red == RED[0]) & (blue == RED[1]) & (green == RED[2])\n",
    "\n",
    "image_array[...][urban_areas.T] = WHITE # Transpose back needed\n",
    "image_array[...][~urban_areas.T] = BLACK # Transpose back needed\n",
    "\n",
    "split_size = image_size / TILE_SIZE\n",
    "if (split_size).is_integer():\n",
    "    split_size = int(split_size)\n",
    "    for tile_index_i in range(split_size):\n",
    "        for tile_index_j in range(split_size):\n",
    "            \n",
    "            row_from = tile_index_i*TILE_SIZE\n",
    "            row_to = tile_index_i*TILE_SIZE + TILE_SIZE\n",
    "            col_from = tile_index_j*TILE_SIZE\n",
    "            col_to = tile_index_j*TILE_SIZE + TILE_SIZE\n",
    "\n",
    "            tile_array = image_array[row_from:row_to,col_from:col_to]\n",
    "            \n",
    "            file_name = f\"mask_{tile_index_i}_{tile_index_j}.tif\"\n",
    "            file_path = os.path.join(TILES_FOLDER, file_name)\n",
    "                        \n",
    "            tile = Image.fromarray(tile_array)\n",
    "            #tile.show()\n",
    "            tile.save(file_path)\n"
   ]
  }
 ],
 "metadata": {
  "kernelspec": {
   "display_name": "Python 3 (ipykernel)",
   "language": "python",
   "name": "python3"
  },
  "language_info": {
   "codemirror_mode": {
    "name": "ipython",
    "version": 3
   },
   "file_extension": ".py",
   "mimetype": "text/x-python",
   "name": "python",
   "nbconvert_exporter": "python",
   "pygments_lexer": "ipython3",
   "version": "3.9.5"
  }
 },
 "nbformat": 4,
 "nbformat_minor": 4
}
